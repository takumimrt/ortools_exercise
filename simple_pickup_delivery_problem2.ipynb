{
 "cells": [
  {
   "cell_type": "code",
   "execution_count": 1,
   "metadata": {
    "collapsed": true
   },
   "outputs": [],
   "source": [
    "from ortools.constraint_solver import routing_enums_pb2\n",
    "from ortools.constraint_solver import pywrapcp"
   ]
  },
  {
   "cell_type": "code",
   "execution_count": 2,
   "outputs": [],
   "source": [
    "data = {\n",
    "    'distance_matrix': [\n",
    "        [0, 10, 20, 30, 40],\n",
    "        [10, 0, 50, 60, 70],\n",
    "        [20, 50, 0, 40, 30],\n",
    "        [30, 60, 40, 0, 20],\n",
    "        [40, 70, 30, 20, 0]\n",
    "    ],\n",
    "    'pickups_deliveries': [\n",
    "        [1, 2],\n",
    "        [2, 4],\n",
    "        [3, 5]\n",
    "    ],\n",
    "    'num_vehicles': 2,\n",
    "    'depot': 0\n",
    "}"
   ],
   "metadata": {
    "collapsed": false,
    "pycharm": {
     "name": "#%%\n"
    }
   }
  },
  {
   "cell_type": "code",
   "execution_count": 4,
   "outputs": [],
   "source": [
    "manager = pywrapcp.RoutingIndexManager(5, 2, 0)\n",
    "routing = pywrapcp.RoutingModel(manager)"
   ],
   "metadata": {
    "collapsed": false,
    "pycharm": {
     "name": "#%%\n"
    }
   }
  },
  {
   "cell_type": "code",
   "execution_count": 5,
   "outputs": [],
   "source": [
    "def distance_callback(from_index, to_index):\n",
    "    from_node = manager.IndexToNode(from_index)\n",
    "    to_node = manager.IndexToNode(to_index)\n",
    "    return data['distance_matrix'][from_node][to_node]"
   ],
   "metadata": {
    "collapsed": false,
    "pycharm": {
     "name": "#%%\n"
    }
   }
  },
  {
   "cell_type": "code",
   "execution_count": 6,
   "outputs": [],
   "source": [
    "transient_callback_index = routing.RegisterTransitCallback(distance_callback)\n",
    "routing.SetArcCostEvaluatorOfAllVehicles(transient_callback_index)"
   ],
   "metadata": {
    "collapsed": false,
    "pycharm": {
     "name": "#%%\n"
    }
   }
  },
  {
   "cell_type": "code",
   "execution_count": 7,
   "outputs": [],
   "source": [
    "dimension_name = 'Distance'\n",
    "routing.AddDimension(transient_callback_index,\n",
    "                     0,\n",
    "                     3000,\n",
    "                     True,\n",
    "                     dimension_name)\n",
    "distance_dimension = routing.GetDimensionOrDie(dimension_name)\n",
    "distance_dimension.SetGlobalSpanCostCoefficient(100)"
   ],
   "metadata": {
    "collapsed": false,
    "pycharm": {
     "name": "#%%\n"
    }
   }
  },
  {
   "cell_type": "code",
   "execution_count": null,
   "outputs": [],
   "source": [
    "for request in data['pickups_deliveries']:\n",
    "\n",
    "    pickup_index = manager.NodeToIndex(request[0])\n",
    "    delivery_index = manager.NodeToIndex(request[1])\n",
    "    routing.AddPickupAndDelivery(pickup_index, delivery_index)\n",
    "    routing.solver().Add(\n",
    "        routing.VehicleVar(pickup_index) == routing.VehicleVar(delivery_index))\n",
    "    routing.solver().Add(\n",
    "        distance_dimension.CumulVar(pickup_index) <= distance_dimension.CumulVar(delivery_index))"
   ],
   "metadata": {
    "collapsed": false,
    "pycharm": {
     "name": "#%%\n",
     "is_executing": true
    }
   }
  },
  {
   "cell_type": "code",
   "execution_count": null,
   "outputs": [],
   "source": [],
   "metadata": {
    "collapsed": false,
    "pycharm": {
     "name": "#%%\n"
    }
   }
  }
 ],
 "metadata": {
  "kernelspec": {
   "name": "pycharm-63b903b",
   "language": "python",
   "display_name": "PyCharm (ortools_exercise)"
  },
  "language_info": {
   "codemirror_mode": {
    "name": "ipython",
    "version": 2
   },
   "file_extension": ".py",
   "mimetype": "text/x-python",
   "name": "python",
   "nbconvert_exporter": "python",
   "pygments_lexer": "ipython2",
   "version": "2.7.6"
  }
 },
 "nbformat": 4,
 "nbformat_minor": 0
}